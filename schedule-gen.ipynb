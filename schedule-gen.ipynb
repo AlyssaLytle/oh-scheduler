{
 "cells": [
  {
   "cell_type": "code",
   "execution_count": 1,
   "metadata": {},
   "outputs": [],
   "source": [
    "from helpers.data_helpers import get_availability, get_hours"
   ]
  },
  {
   "cell_type": "markdown",
   "metadata": {},
   "source": [
    "# Get TA Hours and availability from data files"
   ]
  },
  {
   "cell_type": "code",
   "execution_count": 2,
   "metadata": {},
   "outputs": [],
   "source": [
    "[hours, seniority] = get_hours(\"data/TA-hours.csv\")\n",
    "[tutoring_scores, tutoring_avail] = get_availability(\"data/tutoring.csv\")\n",
    "[oh_scores, oh_avail] = get_availability(\"data/oh.csv\")"
   ]
  },
  {
   "cell_type": "markdown",
   "metadata": {},
   "source": [
    "### Make sure that names in WhenIsGoodData match names in TA Hours."
   ]
  },
  {
   "cell_type": "code",
   "execution_count": 3,
   "metadata": {},
   "outputs": [],
   "source": [
    "names = tutoring_avail.keys()\n",
    "for name in names:\n",
    "    if not name in hours.keys():\n",
    "        print(f\"{name} missing from TA hours\")     "
   ]
  },
  {
   "cell_type": "code",
   "execution_count": 4,
   "metadata": {},
   "outputs": [],
   "source": [
    "names = oh_avail.keys()\n",
    "for name in names:\n",
    "    if not name in hours.keys():\n",
    "        print(f\"{name} missing from TA hours\")"
   ]
  },
  {
   "cell_type": "markdown",
   "metadata": {},
   "source": [
    "### Make sure all TAs gave availability"
   ]
  },
  {
   "cell_type": "code",
   "execution_count": 5,
   "metadata": {},
   "outputs": [
    {
     "name": "stdout",
     "output_type": "stream",
     "text": [
      "anjali shah missing availability\n",
      "austin hill missing availability\n",
      "benjamin eldridge missing availability\n",
      "krisha avula missing availability\n",
      "mitchell anderson missing availability\n",
      "oliver blomfield missing availability\n"
     ]
    }
   ],
   "source": [
    "names = hours.keys()\n",
    "for name in names: \n",
    "    if not name in oh_avail.keys():\n",
    "        print(f\"{name} missing availability\")"
   ]
  },
  {
   "cell_type": "markdown",
   "metadata": {},
   "source": [
    "# Start by assigning tutoring shifts"
   ]
  },
  {
   "cell_type": "code",
   "execution_count": 9,
   "metadata": {},
   "outputs": [
    {
     "name": "stdout",
     "output_type": "stream",
     "text": [
      "['Mon 18:00', 'Wed 17:00', 'Wed 18:00', 'Mon 17:00', 'Thu 18:00', 'Thu 17:00']\n"
     ]
    }
   ],
   "source": [
    "# order tutoring shifts by lowest \"availability scores\" given by WhenIsGood\n",
    "shifts = [k for k, v in sorted(tutoring_scores.items(), key=lambda item: item[1])]\n",
    "print(shifts)"
   ]
  },
  {
   "cell_type": "code",
   "execution_count": null,
   "metadata": {},
   "outputs": [],
   "source": []
  }
 ],
 "metadata": {
  "kernelspec": {
   "display_name": "Python 3",
   "language": "python",
   "name": "python3"
  },
  "language_info": {
   "codemirror_mode": {
    "name": "ipython",
    "version": 3
   },
   "file_extension": ".py",
   "mimetype": "text/x-python",
   "name": "python",
   "nbconvert_exporter": "python",
   "pygments_lexer": "ipython3",
   "version": "3.10.13"
  }
 },
 "nbformat": 4,
 "nbformat_minor": 2
}
